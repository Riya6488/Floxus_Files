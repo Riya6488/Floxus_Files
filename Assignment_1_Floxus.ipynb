{
  "nbformat": 4,
  "nbformat_minor": 0,
  "metadata": {
    "colab": {
      "name": "Assignment 1_Floxus.ipynb",
      "provenance": []
    },
    "kernelspec": {
      "name": "python3",
      "display_name": "Python 3"
    },
    "language_info": {
      "name": "python"
    }
  },
  "cells": [
    {
      "cell_type": "markdown",
      "metadata": {
        "id": "YYZ5n8EIc-eh"
      },
      "source": [
        "Q1. Write a program to print Floyds Triangle?\n",
        "\n",
        "  \n",
        "    1\n",
        "    2 3\n",
        "    4 5 6\n",
        "    7 8 9 10\n",
        "    "
      ]
    },
    {
      "cell_type": "code",
      "metadata": {
        "colab": {
          "base_uri": "https://localhost:8080/"
        },
        "id": "FclzXbYNqlKy",
        "outputId": "18e0b581-56cc-462e-f169-00445d9fcfa4"
      },
      "source": [
        "s = 1\n",
        "for i in range(1,5):\n",
        "  for j in range(1,i+1):\n",
        "     print(s, end=\" \")\n",
        "     s=s+1\n",
        "     \n",
        "  print()"
      ],
      "execution_count": 12,
      "outputs": [
        {
          "output_type": "stream",
          "text": [
            "1 \n",
            "2 3 \n",
            "4 5 6 \n",
            "7 8 9 10 \n"
          ],
          "name": "stdout"
        }
      ]
    },
    {
      "cell_type": "markdown",
      "metadata": {
        "id": "tvW_acGXc2eD"
      },
      "source": [
        "Q2. Write a program to print the full pyramid?\n",
        "\n",
        "    \n",
        "            *\n",
        "          * * *\n",
        "        * * * * *\n",
        "      * * * * * * *\n",
        "    * * * * * * * * *\n",
        "\n",
        "    "
      ]
    },
    {
      "cell_type": "code",
      "metadata": {
        "colab": {
          "base_uri": "https://localhost:8080/"
        },
        "id": "QuTlkm6vsrep",
        "outputId": "25d782bc-e636-4f1e-c246-da23810bf2ed"
      },
      "source": [
        "\n",
        "for i in range (1,6):\n",
        "  for j in range (6,i,-1):\n",
        "    print (' ',end=\" \")\n",
        "  for k in range (1,2*i):\n",
        "    print ('*' , end= \" \")\n",
        "  print ()"
      ],
      "execution_count": 5,
      "outputs": [
        {
          "output_type": "stream",
          "text": [
            "          * \n",
            "        * * * \n",
            "      * * * * * \n",
            "    * * * * * * * \n",
            "  * * * * * * * * * \n"
          ],
          "name": "stdout"
        }
      ]
    },
    {
      "cell_type": "markdown",
      "metadata": {
        "id": "ZQ3N66sLc1Jl"
      },
      "source": [
        "Q3. Write a program to print the inverted pyramid?\n",
        "\n",
        "    \n",
        "    * * * * *\n",
        "    * * * *\n",
        "    * * *\n",
        "    * *\n",
        "    *\n",
        "\n",
        "    "
      ]
    },
    {
      "cell_type": "code",
      "metadata": {
        "colab": {
          "base_uri": "https://localhost:8080/"
        },
        "id": "LgB80TxcuydM",
        "outputId": "72fbbdf2-0c87-4416-f9e7-0de68d595a8e"
      },
      "source": [
        "\n",
        " \n",
        "for i in range(5,0,-1):\n",
        "  for j in range(1,i+1):\n",
        "     print(\"*\", end=\" \")\n",
        "     \n",
        "  print()"
      ],
      "execution_count": 4,
      "outputs": [
        {
          "output_type": "stream",
          "text": [
            "* * * * * \n",
            "* * * * \n",
            "* * * \n",
            "* * \n",
            "* \n"
          ],
          "name": "stdout"
        }
      ]
    },
    {
      "cell_type": "markdown",
      "metadata": {
        "id": "LElrz3WecDaK"
      },
      "source": [
        "Q4. Write a program to print the following number pyramid?\n",
        "\n",
        "  \n",
        "    1\n",
        "    1 2\n",
        "    1 2 3\n",
        "    1 2 3 4\n",
        "    1 2 3 4 5\n"
      ]
    },
    {
      "cell_type": "code",
      "metadata": {
        "colab": {
          "base_uri": "https://localhost:8080/"
        },
        "id": "1EpFZ7qzvHlR",
        "outputId": "8ec3dc0d-f208-4839-ccb6-598fa899c89f"
      },
      "source": [
        "\n",
        "for i in range(1,6):\n",
        "  for j in range(1,i+1):\n",
        "     print(j, end=\" \")\n",
        "     \n",
        "  print()"
      ],
      "execution_count": 2,
      "outputs": [
        {
          "output_type": "stream",
          "text": [
            "1 \n",
            "1 2 \n",
            "1 2 3 \n",
            "1 2 3 4 \n",
            "1 2 3 4 5 \n"
          ],
          "name": "stdout"
        }
      ]
    },
    {
      "cell_type": "markdown",
      "metadata": {
        "id": "6MrSwcatcWhb"
      },
      "source": [
        "Q5. Write a program to calculate 2^x using bitwise operator?"
      ]
    },
    {
      "cell_type": "code",
      "metadata": {
        "colab": {
          "base_uri": "https://localhost:8080/"
        },
        "id": "sHePxb4QvcdE",
        "outputId": "b696fe86-65b9-41e9-c12f-394b3d04c09e"
      },
      "source": [
        "x = int(input ('Enter the power '))\n",
        " \n",
        "print ('2^x is equal to ' ,2<<x-1)"
      ],
      "execution_count": null,
      "outputs": [
        {
          "output_type": "stream",
          "text": [
            "Enter the power 3\n",
            "2^x is equal to  8\n"
          ],
          "name": "stdout"
        }
      ]
    },
    {
      "cell_type": "markdown",
      "metadata": {
        "id": "AEjwJvxfcfgS"
      },
      "source": [
        "Q6. Write a program to check a number is even or odd using bitwise operator?\n",
        "\n"
      ]
    },
    {
      "cell_type": "code",
      "metadata": {
        "colab": {
          "base_uri": "https://localhost:8080/"
        },
        "id": "eJgNQcavwAoC",
        "outputId": "74456d4a-3108-479c-8f91-c73202f3b82b"
      },
      "source": [
        "x = int(input ('Enter the number'))\n",
        "if x&1 == 1:\n",
        "  print ('Number is odd')\n",
        "else:\n",
        "  print ('Number is even')"
      ],
      "execution_count": 6,
      "outputs": [
        {
          "output_type": "stream",
          "text": [
            "Enter the number23\n",
            "Number is odd\n"
          ],
          "name": "stdout"
        }
      ]
    },
    {
      "cell_type": "markdown",
      "metadata": {
        "id": "b72eIAJrdtbz"
      },
      "source": [
        "Q7. Write a program to find the sum of first N natural number using for loop?"
      ]
    },
    {
      "cell_type": "code",
      "metadata": {
        "colab": {
          "base_uri": "https://localhost:8080/"
        },
        "id": "Ust5N39ww7s6",
        "outputId": "feea27d3-7066-44e1-afe5-7f90dc308ba7"
      },
      "source": [
        "n = int(input ('Enter the range '))\n",
        "s = 0\n",
        "for i in range (1,n+1):\n",
        "  s=s+i\n",
        "print (s)"
      ],
      "execution_count": 8,
      "outputs": [
        {
          "output_type": "stream",
          "text": [
            "Enter the range 5\n",
            "15\n"
          ],
          "name": "stdout"
        }
      ]
    },
    {
      "cell_type": "markdown",
      "metadata": {
        "id": "pE2BNENddvd3"
      },
      "source": [
        "Q8. Write a program to print all the digits of a number?\n",
        "\n",
        "    ```\n",
        "    SAMPLE INPUT \n",
        "    321\n",
        "    486\n",
        "\n",
        "    SAMPLE OUTPUT\n",
        "    3  2  1\n",
        "    4  8  6\n",
        "\n",
        "    ```"
      ]
    },
    {
      "cell_type": "code",
      "metadata": {
        "colab": {
          "base_uri": "https://localhost:8080/"
        },
        "id": "KbQGip8f8zEs",
        "outputId": "95314538-37aa-4ca5-c23e-f3e73fbd4a1d"
      },
      "source": [
        "n = int(input ('Enter a number'))\n",
        "a = 0\n",
        "b = []\n",
        "while(n>0):\n",
        "  a=n%10\n",
        "  b.append(a)\n",
        "  n=n//10\n",
        "b.reverse()\n",
        "for i in b:\n",
        "  print (i , end=\" \")"
      ],
      "execution_count": 9,
      "outputs": [
        {
          "output_type": "stream",
          "text": [
            "Enter a number345\n",
            "3 4 5 "
          ],
          "name": "stdout"
        }
      ]
    },
    {
      "cell_type": "markdown",
      "metadata": {
        "id": "xcwktyyfdxhz"
      },
      "source": [
        "Q9. Write a program to check whether a number is prime or not?"
      ]
    },
    {
      "cell_type": "code",
      "metadata": {
        "id": "P8p3B0g82ukt",
        "colab": {
          "base_uri": "https://localhost:8080/"
        },
        "outputId": "68c9b6bf-e1e6-444b-d0f3-719509b53266"
      },
      "source": [
        "s=0\n",
        "n = int(input (\"Enter a number\"))\n",
        "for i in range(1,n+1):\n",
        "  if n%i == 0:\n",
        "    s = s+1\n",
        "  else :\n",
        "    pass\n",
        "if s!=2 : \n",
        "  print(\"Not Prime\")\n",
        "else: \n",
        "  print(\"Prime\")"
      ],
      "execution_count": 10,
      "outputs": [
        {
          "output_type": "stream",
          "text": [
            "Enter a number4\n",
            "Not Prime\n"
          ],
          "name": "stdout"
        }
      ]
    },
    {
      "cell_type": "markdown",
      "metadata": {
        "id": "x6ZL2hujd05K"
      },
      "source": [
        "Q10. Write a program to print Binary representation of a given number N."
      ]
    },
    {
      "cell_type": "code",
      "metadata": {
        "colab": {
          "base_uri": "https://localhost:8080/"
        },
        "id": "aNzMFaPD7k6t",
        "outputId": "6ded3c72-b03c-4f33-d46b-940849832e34"
      },
      "source": [
        "N = int(input ('Enter a number'))\n",
        "a=0\n",
        "b=[]\n",
        "while(N>0):\n",
        "  a=N%2\n",
        "  b.append(a)\n",
        "  N=N//2\n",
        "b.reverse()\n",
        "for i in b:\n",
        "  print(i,end=\"\")"
      ],
      "execution_count": 11,
      "outputs": [
        {
          "output_type": "stream",
          "text": [
            "Enter a number12\n",
            "1100"
          ],
          "name": "stdout"
        }
      ]
    }
  ]
}